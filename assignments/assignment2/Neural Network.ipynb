{
 "cells": [
  {
   "cell_type": "markdown",
   "metadata": {},
   "source": [
    "# Задание 2.1 - Нейронные сети\n",
    "\n",
    "В этом задании вы реализуете и натренируете настоящую нейроную сеть своими руками!\n",
    "\n",
    "В некотором смысле это будет расширением прошлого задания - нам нужно просто составить несколько линейных классификаторов вместе!\n",
    "\n",
    "<img src=\"https://i.redd.it/n9fgba8b0qr01.png\" alt=\"Stack_more_layers\" width=\"400px\"/>"
   ]
  },
  {
   "cell_type": "code",
   "execution_count": 1,
   "metadata": {},
   "outputs": [],
   "source": [
    "import numpy as np\n",
    "import matplotlib.pyplot as plt\n",
    "\n",
    "%matplotlib inline\n",
    "\n",
    "%load_ext autoreload\n",
    "%autoreload 2"
   ]
  },
  {
   "cell_type": "code",
   "execution_count": 2,
   "metadata": {},
   "outputs": [],
   "source": [
    "from dataset import load_svhn, random_split_train_val\n",
    "from gradient_check import check_layer_gradient, check_layer_param_gradient, check_model_gradient\n",
    "from layers import FullyConnectedLayer, ReLULayer\n",
    "from model import TwoLayerNet\n",
    "from trainer import Trainer, Dataset\n",
    "from optim import SGD, MomentumSGD\n",
    "from metrics import multiclass_accuracy"
   ]
  },
  {
   "cell_type": "markdown",
   "metadata": {},
   "source": [
    "# Загружаем данные\n",
    "\n",
    "И разделяем их на training и validation."
   ]
  },
  {
   "cell_type": "code",
   "execution_count": 3,
   "metadata": {},
   "outputs": [],
   "source": [
    "def prepare_for_neural_network(train_X, test_X):\n",
    "    train_flat = train_X.reshape(train_X.shape[0], -1).astype(np.float) / 255.0\n",
    "    test_flat = test_X.reshape(test_X.shape[0], -1).astype(np.float) / 255.0\n",
    "    \n",
    "    # Subtract mean\n",
    "    mean_image = np.mean(train_flat, axis = 0)\n",
    "    train_flat -= mean_image\n",
    "    test_flat -= mean_image\n",
    "    \n",
    "    return train_flat, test_flat\n",
    "    \n",
    "train_X, train_y, test_X, test_y = load_svhn(\"data\", max_train=10000, max_test=1000)    \n",
    "train_X, test_X = prepare_for_neural_network(train_X, test_X)\n",
    "# Split train into train and val\n",
    "train_X, train_y, val_X, val_y = random_split_train_val(train_X, train_y, num_val = 1000)"
   ]
  },
  {
   "cell_type": "markdown",
   "metadata": {},
   "source": [
    "# Как всегда, начинаем с кирпичиков\n",
    "\n",
    "Мы будем реализовывать необходимые нам слои по очереди. Каждый слой должен реализовать:\n",
    "- прямой проход (forward pass), который генерирует выход слоя по входу и запоминает необходимые данные\n",
    "- обратный проход (backward pass), который получает градиент по выходу слоя и вычисляет градиент по входу и по параметрам\n",
    "\n",
    "Начнем с ReLU, у которого параметров нет."
   ]
  },
  {
   "cell_type": "code",
   "execution_count": 4,
   "metadata": {
    "scrolled": false
   },
   "outputs": [
    {
     "name": "stdout",
     "output_type": "stream",
     "text": [
      "Gradient check passed!\n"
     ]
    }
   ],
   "source": [
    "# TODO: Implement ReLULayer layer in layers.py\n",
    "# Note: you'll need to copy implementation of the gradient_check function from the previous assignment\n",
    "\n",
    "\n",
    "X = np.array([[1,-2,3],\n",
    "              [-1, 2, 0.1]\n",
    "              ])\n",
    "\n",
    "assert check_layer_gradient(ReLULayer(), X)"
   ]
  },
  {
   "cell_type": "markdown",
   "metadata": {},
   "source": [
    "А теперь реализуем полносвязный слой (fully connected layer), у которого будет два массива параметров: W (weights) и B (bias).\n",
    "\n",
    "Все параметры наши слои будут использовать для параметров специальный класс `Param`, в котором будут храниться значения параметров и градиенты этих параметров, вычисляемые во время обратного прохода.\n",
    "\n",
    "Это даст возможность аккумулировать (суммировать) градиенты из разных частей функции потерь, например, из cross-entropy loss и regularization loss."
   ]
  },
  {
   "cell_type": "code",
   "execution_count": 5,
   "metadata": {},
   "outputs": [
    {
     "name": "stdout",
     "output_type": "stream",
     "text": [
      "Gradient check passed!\n",
      "Gradient check passed!\n",
      "Gradient check passed!\n"
     ]
    }
   ],
   "source": [
    "# TODO: Implement FullyConnected layer forward and backward methods\n",
    "assert check_layer_gradient(FullyConnectedLayer(3, 4), X)\n",
    "# TODO: Implement storing gradients for W and B\n",
    "assert check_layer_param_gradient(FullyConnectedLayer(3, 4), X, 'W')\n",
    "assert check_layer_param_gradient(FullyConnectedLayer(3, 4), X, 'B')"
   ]
  },
  {
   "cell_type": "markdown",
   "metadata": {},
   "source": [
    "## Создаем нейронную сеть\n",
    "\n",
    "Теперь мы реализуем простейшую нейронную сеть с двумя полносвязным слоями и нелинейностью ReLU. Реализуйте функцию `compute_loss_and_gradients`, она должна запустить прямой и обратный проход через оба слоя для вычисления градиентов.\n",
    "\n",
    "Не забудьте реализовать очистку градиентов в начале функции."
   ]
  },
  {
   "cell_type": "code",
   "execution_count": 6,
   "metadata": {
    "scrolled": true
   },
   "outputs": [
    {
     "name": "stdout",
     "output_type": "stream",
     "text": [
      "Checking gradient for W0\n",
      "Gradient check passed!\n",
      "Checking gradient for W2\n",
      "Gradient check passed!\n",
      "Checking gradient for B2\n",
      "Gradient check passed!\n",
      "Checking gradient for B0\n",
      "Gradient check passed!\n"
     ]
    },
    {
     "data": {
      "text/plain": [
       "True"
      ]
     },
     "execution_count": 6,
     "metadata": {},
     "output_type": "execute_result"
    }
   ],
   "source": [
    "# TODO: In model.py, implement compute_loss_and_gradients function\n",
    "model = TwoLayerNet(n_input = train_X.shape[1], n_output = 10, hidden_layer_size = 3, reg = 0)\n",
    "loss = model.compute_loss_and_gradients(train_X[:2], train_y[:2])\n",
    "\n",
    "# TODO Now implement backward pass and aggregate all of the params\n",
    "check_model_gradient(model, train_X[:2], train_y[:2])"
   ]
  },
  {
   "cell_type": "markdown",
   "metadata": {},
   "source": [
    "Теперь добавьте к модели регуляризацию - она должна прибавляться к loss и делать свой вклад в градиенты."
   ]
  },
  {
   "cell_type": "code",
   "execution_count": 7,
   "metadata": {},
   "outputs": [
    {
     "name": "stdout",
     "output_type": "stream",
     "text": [
      "Checking gradient for W0\n",
      "Gradient check passed!\n",
      "Checking gradient for W2\n",
      "Gradient check passed!\n",
      "Checking gradient for B2\n",
      "Gradient check passed!\n",
      "Checking gradient for B0\n",
      "Gradient check passed!\n"
     ]
    },
    {
     "data": {
      "text/plain": [
       "True"
      ]
     },
     "execution_count": 7,
     "metadata": {},
     "output_type": "execute_result"
    }
   ],
   "source": [
    "# TODO Now implement l2 regularization in the forward and backward pass\n",
    "model_with_reg = TwoLayerNet(n_input = train_X.shape[1], n_output = 10, hidden_layer_size = 3, reg = 1e1)\n",
    "loss_with_reg = model_with_reg.compute_loss_and_gradients(train_X[:2], train_y[:2])\n",
    "assert loss_with_reg > loss and not np.isclose(loss_with_reg, loss), \\\n",
    "    \"Loss with regularization (%2.4f) should be higher than without it (%2.4f)!\" % (loss, loss_with_reg)\n",
    "\n",
    "check_model_gradient(model_with_reg, train_X[:2], train_y[:2])"
   ]
  },
  {
   "cell_type": "markdown",
   "metadata": {},
   "source": [
    "Также реализуем функцию предсказания (вычисления значения) модели на новых данных.\n",
    "\n",
    "Какое значение точности мы ожидаем увидеть до начала тренировки?"
   ]
  },
  {
   "cell_type": "code",
   "execution_count": 8,
   "metadata": {},
   "outputs": [
    {
     "data": {
      "text/plain": [
       "0.1"
      ]
     },
     "execution_count": 8,
     "metadata": {},
     "output_type": "execute_result"
    }
   ],
   "source": [
    "# Finally, implement predict function!\n",
    "\n",
    "# TODO: Implement predict function\n",
    "# What would be the value we expect?\n",
    "multiclass_accuracy(model_with_reg.predict(train_X[:30]), train_y[:30]) "
   ]
  },
  {
   "cell_type": "markdown",
   "metadata": {},
   "source": [
    "# Допишем код для процесса тренировки\n",
    "\n",
    "Если все реализовано корректно, значение функции ошибки должно уменьшаться с каждой эпохой, пусть и медленно. Не беспокойтесь пока про validation accuracy."
   ]
  },
  {
   "cell_type": "code",
   "execution_count": 9,
   "metadata": {},
   "outputs": [
    {
     "name": "stdout",
     "output_type": "stream",
     "text": [
      "Loss: 2.216398, Train accuracy: 0.196667, val accuracy: 0.206000\n",
      "Loss: 2.153856, Train accuracy: 0.196667, val accuracy: 0.206000\n",
      "Loss: 2.099106, Train accuracy: 0.196667, val accuracy: 0.206000\n",
      "Loss: 2.285874, Train accuracy: 0.196667, val accuracy: 0.206000\n",
      "Loss: 2.168890, Train accuracy: 0.196667, val accuracy: 0.206000\n",
      "Loss: 2.063678, Train accuracy: 0.196667, val accuracy: 0.206000\n",
      "Loss: 2.365672, Train accuracy: 0.196667, val accuracy: 0.206000\n",
      "Loss: 2.103934, Train accuracy: 0.196667, val accuracy: 0.206000\n",
      "Loss: 2.222549, Train accuracy: 0.210333, val accuracy: 0.218000\n",
      "Loss: 2.059842, Train accuracy: 0.233111, val accuracy: 0.237000\n",
      "Loss: 2.115231, Train accuracy: 0.260667, val accuracy: 0.257000\n",
      "Loss: 2.090787, Train accuracy: 0.272111, val accuracy: 0.275000\n",
      "Loss: 2.098957, Train accuracy: 0.288222, val accuracy: 0.292000\n",
      "Loss: 1.974340, Train accuracy: 0.306889, val accuracy: 0.310000\n",
      "Loss: 2.011588, Train accuracy: 0.333000, val accuracy: 0.336000\n",
      "Loss: 1.819071, Train accuracy: 0.369444, val accuracy: 0.366000\n",
      "Loss: 1.805035, Train accuracy: 0.398222, val accuracy: 0.391000\n",
      "Loss: 2.001364, Train accuracy: 0.415444, val accuracy: 0.405000\n",
      "Loss: 1.930639, Train accuracy: 0.435778, val accuracy: 0.432000\n",
      "Loss: 1.738233, Train accuracy: 0.467111, val accuracy: 0.463000\n"
     ]
    }
   ],
   "source": [
    "model = TwoLayerNet(n_input = train_X.shape[1], n_output = 10, hidden_layer_size = 100, reg = 1e-5)\n",
    "dataset = Dataset(train_X, train_y, val_X, val_y)\n",
    "trainer = Trainer(model, dataset, SGD(), learning_rate = 1e-2)\n",
    "\n",
    "# TODO Implement missing pieces in Trainer.fit function\n",
    "# You should expect loss to go down every epoch, even if it's slow\n",
    "loss_history, train_history, val_history = trainer.fit()"
   ]
  },
  {
   "cell_type": "code",
   "execution_count": 11,
   "metadata": {},
   "outputs": [
    {
     "data": {
      "text/plain": [
       "[<matplotlib.lines.Line2D at 0x7f9cc9b3ee80>]"
      ]
     },
     "execution_count": 11,
     "metadata": {},
     "output_type": "execute_result"
    },
    {
     "data": {
      "image/png": "[encoded data removed]",
      "text/plain": [
       "<Figure size 432x288 with 1 Axes>"
      ]
     },
     "metadata": {
      "needs_background": "light"
     },
     "output_type": "display_data"
    }
   ],
   "source": [
    "plt.plot(train_history)\n",
    "plt.plot(val_history)"
   ]
  },
  {
   "cell_type": "markdown",
   "metadata": {},
   "source": [
    "# Улучшаем процесс тренировки\n",
    "\n",
    "Мы реализуем несколько ключевых оптимизаций, необходимых для тренировки современных нейросетей."
   ]
  },
  {
   "cell_type": "markdown",
   "metadata": {},
   "source": [
    "## Уменьшение скорости обучения (learning rate decay)\n",
    "\n",
    "Одна из необходимых оптимизаций во время тренировки нейронных сетей - постепенное уменьшение скорости обучения по мере тренировки.\n",
    "\n",
    "Один из стандартных методов - уменьшение скорости обучения (learning rate) каждые N эпох на коэффициент d (часто называемый decay). Значения N и d, как всегда, являются гиперпараметрами и должны подбираться на основе эффективности на проверочных данных (validation data). \n",
    "\n",
    "В нашем случае N будет равным 1."
   ]
  },
  {
   "cell_type": "code",
   "execution_count": 15,
   "metadata": {
    "scrolled": true
   },
   "outputs": [
    {
     "name": "stdout",
     "output_type": "stream",
     "text": [
      "Loss: 2.276673, Train accuracy: 0.196667, val accuracy: 0.206000\n",
      "Loss: 2.161495, Train accuracy: 0.196667, val accuracy: 0.206000\n",
      "Loss: 2.241086, Train accuracy: 0.196667, val accuracy: 0.206000\n",
      "Loss: 2.213090, Train accuracy: 0.196667, val accuracy: 0.206000\n",
      "Loss: 2.293912, Train accuracy: 0.196667, val accuracy: 0.206000\n",
      "Loss: 2.055375, Train accuracy: 0.196667, val accuracy: 0.206000\n",
      "Loss: 1.924390, Train accuracy: 0.196667, val accuracy: 0.206000\n",
      "Loss: 2.244051, Train accuracy: 0.196667, val accuracy: 0.206000\n",
      "Loss: 2.211387, Train accuracy: 0.201889, val accuracy: 0.208000\n",
      "Loss: 1.898222, Train accuracy: 0.222667, val accuracy: 0.220000\n",
      "Loss: 2.257228, Train accuracy: 0.247667, val accuracy: 0.249000\n",
      "Loss: 1.920852, Train accuracy: 0.268222, val accuracy: 0.262000\n",
      "Loss: 2.101370, Train accuracy: 0.275889, val accuracy: 0.275000\n",
      "Loss: 2.065662, Train accuracy: 0.280556, val accuracy: 0.285000\n",
      "Loss: 1.825731, Train accuracy: 0.294778, val accuracy: 0.298000\n",
      "Loss: 1.942965, Train accuracy: 0.314556, val accuracy: 0.319000\n",
      "Loss: 1.644673, Train accuracy: 0.343778, val accuracy: 0.351000\n",
      "Loss: 1.928316, Train accuracy: 0.366667, val accuracy: 0.377000\n",
      "Loss: 1.476628, Train accuracy: 0.397333, val accuracy: 0.389000\n",
      "Loss: 1.873728, Train accuracy: 0.414111, val accuracy: 0.410000\n"
     ]
    }
   ],
   "source": [
    "# TODO Implement learning rate decay inside Trainer.fit method\n",
    "# Decay should happen once per epoch\n",
    "\n",
    "# Тут регуляризация = 0!\n",
    "\n",
    "model = TwoLayerNet(n_input = train_X.shape[1], n_output = 10, hidden_layer_size = 100, reg = 0e-5)\n",
    "dataset = Dataset(train_X, train_y, val_X, val_y)\n",
    "trainer = Trainer(model, dataset, SGD(), learning_rate_decay=0.99)\n",
    "\n",
    "initial_learning_rate = trainer.learning_rate\n",
    "loss_history, train_history, val_history = trainer.fit()\n",
    "\n",
    "assert trainer.learning_rate < initial_learning_rate, \"Learning rate should've been reduced\"\n",
    "assert trainer.learning_rate > 0.5*initial_learning_rate, \"Learning rate shouldn'tve been reduced that much!\""
   ]
  },
  {
   "cell_type": "code",
   "execution_count": 16,
   "metadata": {},
   "outputs": [
    {
     "data": {
      "text/plain": [
       "[<matplotlib.lines.Line2D at 0x7f9cdaea70b8>]"
      ]
     },
     "execution_count": 16,
     "metadata": {},
     "output_type": "execute_result"
    },
    {
     "data": {
      "image/png": "[encoded data removed]",
      "text/plain": [
       "<Figure size 432x288 with 1 Axes>"
      ]
     },
     "metadata": {
      "needs_background": "light"
     },
     "output_type": "display_data"
    }
   ],
   "source": [
    "plt.plot(train_history)\n",
    "plt.plot(val_history)"
   ]
  },
  {
   "cell_type": "markdown",
   "metadata": {},
   "source": [
    "# Накопление импульса (Momentum SGD)\n",
    "\n",
    "Другой большой класс оптимизаций - использование более эффективных методов градиентного спуска. Мы реализуем один из них - накопление импульса (Momentum SGD).\n",
    "\n",
    "Этот метод хранит скорость движения, использует градиент для ее изменения на каждом шаге, и изменяет веса пропорционально значению скорости.\n",
    "(Физическая аналогия: Вместо скорости градиенты теперь будут задавать ускорение, но будет присутствовать сила трения.)\n",
    "\n",
    "```\n",
    "velocity = momentum * velocity - learning_rate * gradient \n",
    "w = w + velocity\n",
    "```\n",
    "\n",
    "`momentum` здесь коэффициент затухания, который тоже является гиперпараметром (к счастью, для него часто есть хорошее значение по умолчанию, типичный диапазон -- 0.8-0.99).\n",
    "\n",
    "Несколько полезных ссылок, где метод разбирается более подробно:  \n",
    "http://cs231n.github.io/neural-networks-3/#sgd  \n",
    "https://distill.pub/2017/momentum/"
   ]
  },
  {
   "cell_type": "code",
   "execution_count": 22,
   "metadata": {},
   "outputs": [
    {
     "name": "stdout",
     "output_type": "stream",
     "text": [
      "Loss: 2.320088, Train accuracy: 0.196667, val accuracy: 0.206000\n",
      "Loss: 2.191828, Train accuracy: 0.196667, val accuracy: 0.206000\n",
      "Loss: 2.315427, Train accuracy: 0.196667, val accuracy: 0.206000\n",
      "Loss: 2.274006, Train accuracy: 0.196667, val accuracy: 0.206000\n",
      "Loss: 2.263223, Train accuracy: 0.196667, val accuracy: 0.206000\n",
      "Loss: 2.214368, Train accuracy: 0.196667, val accuracy: 0.206000\n",
      "Loss: 2.198625, Train accuracy: 0.196667, val accuracy: 0.206000\n",
      "Loss: 2.116074, Train accuracy: 0.196667, val accuracy: 0.206000\n",
      "Loss: 2.186471, Train accuracy: 0.201111, val accuracy: 0.209000\n",
      "Loss: 2.185901, Train accuracy: 0.229889, val accuracy: 0.235000\n",
      "Loss: 2.152503, Train accuracy: 0.244222, val accuracy: 0.242000\n",
      "Loss: 2.170687, Train accuracy: 0.265667, val accuracy: 0.259000\n",
      "Loss: 1.955616, Train accuracy: 0.277222, val accuracy: 0.278000\n",
      "Loss: 1.956843, Train accuracy: 0.289556, val accuracy: 0.294000\n",
      "Loss: 2.012811, Train accuracy: 0.308333, val accuracy: 0.315000\n",
      "Loss: 1.787021, Train accuracy: 0.321222, val accuracy: 0.323000\n",
      "Loss: 1.949217, Train accuracy: 0.352889, val accuracy: 0.347000\n",
      "Loss: 1.829691, Train accuracy: 0.376444, val accuracy: 0.373000\n",
      "Loss: 1.619156, Train accuracy: 0.399222, val accuracy: 0.395000\n",
      "Loss: 1.793428, Train accuracy: 0.423222, val accuracy: 0.414000\n"
     ]
    }
   ],
   "source": [
    "# TODO: Implement MomentumSGD.update function in optim.py\n",
    "\n",
    "model = TwoLayerNet(n_input = train_X.shape[1], n_output = 10, hidden_layer_size = 100, reg = 1e-5)\n",
    "dataset = Dataset(train_X, train_y, val_X, val_y)\n",
    "trainer = Trainer(model, dataset, MomentumSGD(), learning_rate=1e-2, learning_rate_decay=0.99)\n",
    "\n",
    "# You should see even better results than before!\n",
    "loss_history, train_history, val_history = trainer.fit()"
   ]
  },
  {
   "cell_type": "code",
   "execution_count": 23,
   "metadata": {
    "scrolled": true
   },
   "outputs": [
    {
     "data": {
      "text/plain": [
       "[<matplotlib.lines.Line2D at 0x7f9cc98e7198>]"
      ]
     },
     "execution_count": 23,
     "metadata": {},
     "output_type": "execute_result"
    },
    {
     "data": {
      "image/png": "[encoded data removed]",
      "text/plain": [
       "<Figure size 432x288 with 1 Axes>"
      ]
     },
     "metadata": {
      "needs_background": "light"
     },
     "output_type": "display_data"
    }
   ],
   "source": [
    "plt.plot(train_history)\n",
    "plt.plot(val_history)"
   ]
  },
  {
   "cell_type": "code",
   "execution_count": 24,
   "metadata": {},
   "outputs": [
    {
     "data": {
      "text/plain": [
       "[<matplotlib.lines.Line2D at 0x7f9cc98bdf98>]"
      ]
     },
     "execution_count": 24,
     "metadata": {},
     "output_type": "execute_result"
    },
    {
     "data": {
      "image/png": "[encoded data removed]",
      "text/plain": [
       "<Figure size 432x288 with 1 Axes>"
      ]
     },
     "metadata": {
      "needs_background": "light"
     },
     "output_type": "display_data"
    }
   ],
   "source": [
    "plt.plot(loss_history)"
   ]
  },
  {
   "cell_type": "markdown",
   "metadata": {},
   "source": [
    "# Ну что, давайте уже тренировать сеть!"
   ]
  },
  {
   "cell_type": "markdown",
   "metadata": {},
   "source": [
    "## Последний тест - переобучимся (overfit) на маленьком наборе данных\n",
    "\n",
    "Хороший способ проверить, все ли реализовано корректно - переобучить сеть на маленьком наборе данных.  \n",
    "Наша модель обладает достаточной мощностью, чтобы приблизить маленький набор данных идеально, поэтому мы ожидаем, что на нем мы быстро дойдем до 100% точности на тренировочном наборе. \n",
    "\n",
    "Если этого не происходит, то где-то была допущена ошибка!"
   ]
  },
  {
   "cell_type": "code",
   "execution_count": 25,
   "metadata": {},
   "outputs": [
    {
     "name": "stdout",
     "output_type": "stream",
     "text": [
      "Loss: 2.335675, Train accuracy: 0.333333, val accuracy: 0.066667\n",
      "Loss: 2.311654, Train accuracy: 0.200000, val accuracy: 0.133333\n",
      "Loss: 2.295345, Train accuracy: 0.200000, val accuracy: 0.133333\n",
      "Loss: 2.295396, Train accuracy: 0.200000, val accuracy: 0.133333\n",
      "Loss: 2.283384, Train accuracy: 0.200000, val accuracy: 0.133333\n",
      "Loss: 2.327195, Train accuracy: 0.200000, val accuracy: 0.133333\n",
      "Loss: 2.331337, Train accuracy: 0.266667, val accuracy: 0.000000\n",
      "Loss: 2.195875, Train accuracy: 0.266667, val accuracy: 0.000000\n",
      "Loss: 2.334363, Train accuracy: 0.333333, val accuracy: 0.000000\n",
      "Loss: 2.260932, Train accuracy: 0.400000, val accuracy: 0.000000\n",
      "Loss: 2.049950, Train accuracy: 0.400000, val accuracy: 0.000000\n",
      "Loss: 2.189143, Train accuracy: 0.400000, val accuracy: 0.000000\n",
      "Loss: 1.726105, Train accuracy: 0.400000, val accuracy: 0.000000\n",
      "Loss: 2.243477, Train accuracy: 0.333333, val accuracy: 0.000000\n",
      "Loss: 2.056463, Train accuracy: 0.333333, val accuracy: 0.000000\n",
      "Loss: 2.373565, Train accuracy: 0.333333, val accuracy: 0.000000\n",
      "Loss: 1.545829, Train accuracy: 0.400000, val accuracy: 0.000000\n",
      "Loss: 1.862389, Train accuracy: 0.400000, val accuracy: 0.000000\n",
      "Loss: 2.035925, Train accuracy: 0.400000, val accuracy: 0.000000\n",
      "Loss: 2.085839, Train accuracy: 0.400000, val accuracy: 0.000000\n",
      "Loss: 1.635972, Train accuracy: 0.400000, val accuracy: 0.000000\n",
      "Loss: 1.596705, Train accuracy: 0.466667, val accuracy: 0.000000\n",
      "Loss: 1.551665, Train accuracy: 0.400000, val accuracy: 0.000000\n",
      "Loss: 1.493683, Train accuracy: 0.466667, val accuracy: 0.000000\n",
      "Loss: 1.538916, Train accuracy: 0.466667, val accuracy: 0.000000\n",
      "Loss: 1.749055, Train accuracy: 0.466667, val accuracy: 0.000000\n",
      "Loss: 1.217003, Train accuracy: 0.466667, val accuracy: 0.000000\n",
      "Loss: 2.127371, Train accuracy: 0.533333, val accuracy: 0.000000\n",
      "Loss: 1.719318, Train accuracy: 0.533333, val accuracy: 0.000000\n",
      "Loss: 1.459300, Train accuracy: 0.466667, val accuracy: 0.000000\n",
      "Loss: 1.652022, Train accuracy: 0.600000, val accuracy: 0.066667\n",
      "Loss: 2.252328, Train accuracy: 0.533333, val accuracy: 0.066667\n",
      "Loss: 1.391129, Train accuracy: 0.466667, val accuracy: 0.000000\n",
      "Loss: 2.176917, Train accuracy: 0.600000, val accuracy: 0.000000\n",
      "Loss: 1.367028, Train accuracy: 0.533333, val accuracy: 0.066667\n",
      "Loss: 2.118823, Train accuracy: 0.666667, val accuracy: 0.066667\n",
      "Loss: 1.866064, Train accuracy: 0.600000, val accuracy: 0.066667\n",
      "Loss: 1.728678, Train accuracy: 0.666667, val accuracy: 0.066667\n",
      "Loss: 1.605795, Train accuracy: 0.666667, val accuracy: 0.000000\n",
      "Loss: 1.806636, Train accuracy: 0.600000, val accuracy: 0.066667\n",
      "Loss: 1.765905, Train accuracy: 0.666667, val accuracy: 0.066667\n",
      "Loss: 2.073589, Train accuracy: 0.666667, val accuracy: 0.066667\n",
      "Loss: 1.430367, Train accuracy: 0.666667, val accuracy: 0.066667\n",
      "Loss: 1.994815, Train accuracy: 0.666667, val accuracy: 0.000000\n",
      "Loss: 1.580917, Train accuracy: 0.666667, val accuracy: 0.066667\n",
      "Loss: 1.342621, Train accuracy: 0.733333, val accuracy: 0.066667\n",
      "Loss: 1.335676, Train accuracy: 0.733333, val accuracy: 0.066667\n",
      "Loss: 1.434927, Train accuracy: 0.733333, val accuracy: 0.133333\n",
      "Loss: 1.572843, Train accuracy: 0.733333, val accuracy: 0.066667\n",
      "Loss: 1.236096, Train accuracy: 0.733333, val accuracy: 0.066667\n",
      "Loss: 1.044470, Train accuracy: 0.733333, val accuracy: 0.066667\n",
      "Loss: 1.851571, Train accuracy: 0.733333, val accuracy: 0.066667\n",
      "Loss: 1.637246, Train accuracy: 0.733333, val accuracy: 0.066667\n",
      "Loss: 1.143766, Train accuracy: 0.733333, val accuracy: 0.133333\n",
      "Loss: 1.314396, Train accuracy: 0.733333, val accuracy: 0.133333\n",
      "Loss: 1.742354, Train accuracy: 0.733333, val accuracy: 0.066667\n",
      "Loss: 1.271020, Train accuracy: 0.733333, val accuracy: 0.066667\n",
      "Loss: 1.301668, Train accuracy: 0.733333, val accuracy: 0.066667\n",
      "Loss: 1.260540, Train accuracy: 0.733333, val accuracy: 0.066667\n",
      "Loss: 1.936348, Train accuracy: 0.733333, val accuracy: 0.066667\n",
      "Loss: 0.973220, Train accuracy: 0.733333, val accuracy: 0.133333\n",
      "Loss: 1.593931, Train accuracy: 0.733333, val accuracy: 0.066667\n",
      "Loss: 0.949204, Train accuracy: 0.733333, val accuracy: 0.066667\n",
      "Loss: 1.482652, Train accuracy: 0.733333, val accuracy: 0.066667\n",
      "Loss: 1.328565, Train accuracy: 0.800000, val accuracy: 0.066667\n",
      "Loss: 1.465343, Train accuracy: 0.800000, val accuracy: 0.066667\n",
      "Loss: 1.192539, Train accuracy: 0.800000, val accuracy: 0.066667\n",
      "Loss: 1.046553, Train accuracy: 0.800000, val accuracy: 0.066667\n",
      "Loss: 2.014917, Train accuracy: 0.800000, val accuracy: 0.066667\n",
      "Loss: 1.593795, Train accuracy: 0.866667, val accuracy: 0.066667\n",
      "Loss: 1.513834, Train accuracy: 0.866667, val accuracy: 0.066667\n",
      "Loss: 1.580350, Train accuracy: 0.866667, val accuracy: 0.066667\n",
      "Loss: 1.401404, Train accuracy: 0.866667, val accuracy: 0.066667\n",
      "Loss: 1.030692, Train accuracy: 0.866667, val accuracy: 0.066667\n",
      "Loss: 1.879328, Train accuracy: 0.866667, val accuracy: 0.066667\n",
      "Loss: 0.953021, Train accuracy: 0.866667, val accuracy: 0.066667\n",
      "Loss: 1.213355, Train accuracy: 0.866667, val accuracy: 0.066667\n",
      "Loss: 1.929883, Train accuracy: 0.866667, val accuracy: 0.066667\n",
      "Loss: 0.931683, Train accuracy: 0.866667, val accuracy: 0.066667\n",
      "Loss: 1.519123, Train accuracy: 0.866667, val accuracy: 0.066667\n",
      "Loss: 1.307896, Train accuracy: 0.866667, val accuracy: 0.066667\n",
      "Loss: 1.270461, Train accuracy: 0.866667, val accuracy: 0.066667\n",
      "Loss: 1.144585, Train accuracy: 0.866667, val accuracy: 0.066667\n",
      "Loss: 1.763137, Train accuracy: 0.866667, val accuracy: 0.066667\n",
      "Loss: 1.255105, Train accuracy: 0.866667, val accuracy: 0.066667\n",
      "Loss: 1.473630, Train accuracy: 0.866667, val accuracy: 0.066667\n",
      "Loss: 1.290398, Train accuracy: 0.866667, val accuracy: 0.066667\n",
      "Loss: 1.207795, Train accuracy: 0.866667, val accuracy: 0.066667\n",
      "Loss: 1.530672, Train accuracy: 0.866667, val accuracy: 0.066667\n",
      "Loss: 1.165765, Train accuracy: 0.866667, val accuracy: 0.066667\n",
      "Loss: 1.106537, Train accuracy: 0.866667, val accuracy: 0.000000\n",
      "Loss: 1.255521, Train accuracy: 0.866667, val accuracy: 0.066667\n",
      "Loss: 1.223329, Train accuracy: 0.866667, val accuracy: 0.000000\n",
      "Loss: 1.361627, Train accuracy: 0.933333, val accuracy: 0.000000\n",
      "Loss: 1.260788, Train accuracy: 0.933333, val accuracy: 0.000000\n",
      "Loss: 1.240676, Train accuracy: 0.866667, val accuracy: 0.000000\n",
      "Loss: 1.431762, Train accuracy: 0.933333, val accuracy: 0.000000\n",
      "Loss: 1.686004, Train accuracy: 0.933333, val accuracy: 0.000000\n",
      "Loss: 1.535431, Train accuracy: 0.933333, val accuracy: 0.000000\n",
      "Loss: 1.592074, Train accuracy: 0.933333, val accuracy: 0.000000\n",
      "Loss: 1.568616, Train accuracy: 0.933333, val accuracy: 0.000000\n",
      "Loss: 1.275386, Train accuracy: 1.000000, val accuracy: 0.000000\n",
      "Loss: 1.318236, Train accuracy: 0.866667, val accuracy: 0.000000\n",
      "Loss: 1.014958, Train accuracy: 0.933333, val accuracy: 0.000000\n",
      "Loss: 1.417023, Train accuracy: 1.000000, val accuracy: 0.000000\n",
      "Loss: 1.216409, Train accuracy: 0.933333, val accuracy: 0.000000\n",
      "Loss: 1.461848, Train accuracy: 1.000000, val accuracy: 0.000000\n",
      "Loss: 1.140195, Train accuracy: 1.000000, val accuracy: 0.000000\n",
      "Loss: 1.617527, Train accuracy: 1.000000, val accuracy: 0.000000\n",
      "Loss: 1.493641, Train accuracy: 1.000000, val accuracy: 0.000000\n",
      "Loss: 1.288315, Train accuracy: 1.000000, val accuracy: 0.000000\n",
      "Loss: 1.175336, Train accuracy: 1.000000, val accuracy: 0.000000\n",
      "Loss: 1.191684, Train accuracy: 1.000000, val accuracy: 0.000000\n",
      "Loss: 1.158243, Train accuracy: 1.000000, val accuracy: 0.000000\n",
      "Loss: 1.307802, Train accuracy: 1.000000, val accuracy: 0.000000\n",
      "Loss: 1.318792, Train accuracy: 1.000000, val accuracy: 0.000000\n",
      "Loss: 1.423711, Train accuracy: 1.000000, val accuracy: 0.000000\n",
      "Loss: 1.230059, Train accuracy: 1.000000, val accuracy: 0.000000\n",
      "Loss: 1.309023, Train accuracy: 1.000000, val accuracy: 0.000000\n",
      "Loss: 1.493063, Train accuracy: 1.000000, val accuracy: 0.000000\n",
      "Loss: 1.434446, Train accuracy: 1.000000, val accuracy: 0.000000\n",
      "Loss: 1.144354, Train accuracy: 1.000000, val accuracy: 0.000000\n",
      "Loss: 1.034630, Train accuracy: 1.000000, val accuracy: 0.000000\n",
      "Loss: 1.438515, Train accuracy: 1.000000, val accuracy: 0.000000\n",
      "Loss: 1.380109, Train accuracy: 1.000000, val accuracy: 0.000000\n",
      "Loss: 1.086991, Train accuracy: 1.000000, val accuracy: 0.000000\n",
      "Loss: 1.277421, Train accuracy: 1.000000, val accuracy: 0.000000\n"
     ]
    },
    {
     "name": "stdout",
     "output_type": "stream",
     "text": [
      "Loss: 1.186807, Train accuracy: 1.000000, val accuracy: 0.000000\n",
      "Loss: 1.322828, Train accuracy: 1.000000, val accuracy: 0.000000\n",
      "Loss: 1.170928, Train accuracy: 1.000000, val accuracy: 0.000000\n",
      "Loss: 1.187770, Train accuracy: 1.000000, val accuracy: 0.000000\n",
      "Loss: 1.356509, Train accuracy: 1.000000, val accuracy: 0.000000\n",
      "Loss: 1.423434, Train accuracy: 1.000000, val accuracy: 0.000000\n",
      "Loss: 1.469029, Train accuracy: 1.000000, val accuracy: 0.000000\n",
      "Loss: 1.316006, Train accuracy: 1.000000, val accuracy: 0.000000\n",
      "Loss: 1.622316, Train accuracy: 1.000000, val accuracy: 0.000000\n",
      "Loss: 1.398875, Train accuracy: 1.000000, val accuracy: 0.000000\n",
      "Loss: 1.229178, Train accuracy: 1.000000, val accuracy: 0.000000\n",
      "Loss: 1.294321, Train accuracy: 1.000000, val accuracy: 0.000000\n",
      "Loss: 1.136615, Train accuracy: 1.000000, val accuracy: 0.000000\n",
      "Loss: 1.532256, Train accuracy: 1.000000, val accuracy: 0.000000\n",
      "Loss: 1.402320, Train accuracy: 1.000000, val accuracy: 0.000000\n",
      "Loss: 1.447840, Train accuracy: 1.000000, val accuracy: 0.000000\n",
      "Loss: 1.208579, Train accuracy: 1.000000, val accuracy: 0.000000\n",
      "Loss: 1.246390, Train accuracy: 1.000000, val accuracy: 0.000000\n",
      "Loss: 1.268466, Train accuracy: 1.000000, val accuracy: 0.000000\n",
      "Loss: 1.257831, Train accuracy: 1.000000, val accuracy: 0.000000\n",
      "Loss: 1.207307, Train accuracy: 1.000000, val accuracy: 0.000000\n",
      "Loss: 1.378986, Train accuracy: 1.000000, val accuracy: 0.000000\n",
      "Loss: 1.455442, Train accuracy: 1.000000, val accuracy: 0.000000\n"
     ]
    }
   ],
   "source": [
    "data_size = 15\n",
    "model = TwoLayerNet(n_input = train_X.shape[1], n_output = 10, hidden_layer_size = 100, reg = 1e-1)\n",
    "dataset = Dataset(train_X[:data_size], train_y[:data_size], val_X[:data_size], val_y[:data_size])\n",
    "trainer = Trainer(model, dataset, SGD(), learning_rate=1e-1, num_epochs=150, batch_size=5)\n",
    "\n",
    "# You should expect this to reach 1.0 training accuracy \n",
    "loss_history, train_history, val_history = trainer.fit()"
   ]
  },
  {
   "cell_type": "markdown",
   "metadata": {},
   "source": [
    "Теперь найдем гипепараметры, для которых этот процесс сходится быстрее.\n",
    "Если все реализовано корректно, то существуют параметры, при которых процесс сходится в **20** эпох или еще быстрее.\n",
    "Найдите их!"
   ]
  },
  {
   "cell_type": "code",
   "execution_count": 85,
   "metadata": {
    "scrolled": true
   },
   "outputs": [
    {
     "name": "stdout",
     "output_type": "stream",
     "text": [
      "Loss: 2.297122, Train accuracy: 0.200000, val accuracy: 0.066667\n",
      "Loss: 2.376923, Train accuracy: 0.200000, val accuracy: 0.066667\n",
      "Loss: 2.119814, Train accuracy: 0.200000, val accuracy: 0.066667\n",
      "Loss: 2.239407, Train accuracy: 0.333333, val accuracy: 0.066667\n",
      "Loss: 1.428389, Train accuracy: 0.333333, val accuracy: 0.000000\n",
      "Loss: 1.543353, Train accuracy: 0.400000, val accuracy: 0.000000\n",
      "Loss: 0.811796, Train accuracy: 0.400000, val accuracy: 0.000000\n",
      "Loss: 2.167389, Train accuracy: 0.533333, val accuracy: 0.066667\n",
      "Loss: 1.285924, Train accuracy: 0.600000, val accuracy: 0.000000\n",
      "Loss: 1.644378, Train accuracy: 0.666667, val accuracy: 0.066667\n",
      "Loss: 1.414871, Train accuracy: 0.466667, val accuracy: 0.066667\n",
      "Loss: 0.856676, Train accuracy: 0.733333, val accuracy: 0.000000\n",
      "Loss: 2.198398, Train accuracy: 0.800000, val accuracy: 0.000000\n",
      "Loss: 0.796803, Train accuracy: 0.800000, val accuracy: 0.000000\n",
      "Loss: 1.228323, Train accuracy: 0.800000, val accuracy: 0.000000\n",
      "Loss: 1.212347, Train accuracy: 0.866667, val accuracy: 0.000000\n",
      "Loss: 0.686507, Train accuracy: 0.866667, val accuracy: 0.000000\n",
      "Loss: 0.479712, Train accuracy: 1.000000, val accuracy: 0.066667\n",
      "Loss: 0.312058, Train accuracy: 1.000000, val accuracy: 0.066667\n",
      "Loss: 0.049987, Train accuracy: 1.000000, val accuracy: 0.066667\n"
     ]
    },
    {
     "data": {
      "text/plain": [
       "[<matplotlib.lines.Line2D at 0x7f9cc8fe85f8>]"
      ]
     },
     "execution_count": 85,
     "metadata": {},
     "output_type": "execute_result"
    },
    {
     "data": {
      "image/png": "[encoded data removed]",
      "text/plain": [
       "<Figure size 432x288 with 1 Axes>"
      ]
     },
     "metadata": {
      "needs_background": "light"
     },
     "output_type": "display_data"
    }
   ],
   "source": [
    "# Now, tweak some hyper parameters and make it train to 1.0 accuracy in 20 epochs or less\n",
    "\n",
    "model = TwoLayerNet(n_input = train_X.shape[1], n_output = 10, hidden_layer_size = 50, reg = 0e-5)\n",
    "dataset = Dataset(train_X[:data_size], train_y[:data_size], val_X[:data_size], val_y[:data_size])\n",
    "# TODO: Change any hyperparamers or optimizators to reach training accuracy in 20 epochs\n",
    "trainer = Trainer(model, dataset, SGD(), learning_rate=2e-1, num_epochs=20, batch_size=3)\n",
    "\n",
    "loss_history, train_history, val_history = trainer.fit()\n",
    "plt.plot(loss_history)"
   ]
  },
  {
   "cell_type": "markdown",
   "metadata": {},
   "source": [
    "# Итак, основное мероприятие!\n",
    "\n",
    "Натренируйте лучшую нейросеть! Можно добавлять и изменять параметры, менять количество нейронов в слоях сети и как угодно экспериментировать. \n",
    "\n",
    "Добейтесь точности лучше **60%** на validation set."
   ]
  },
  {
   "cell_type": "code",
   "execution_count": 5,
   "metadata": {
    "scrolled": true
   },
   "outputs": [
    {
     "name": "stdout",
     "output_type": "stream",
     "text": [
      "Loss: 2.302681, Train accuracy: 0.148222, val accuracy: 0.140000\n",
      "Loss: 2.302502, Train accuracy: 0.148333, val accuracy: 0.141000\n",
      "Loss: 2.302175, Train accuracy: 0.197222, val accuracy: 0.207000\n",
      "Loss: 2.301513, Train accuracy: 0.196667, val accuracy: 0.206000\n",
      "Loss: 2.301925, Train accuracy: 0.196667, val accuracy: 0.206000\n",
      "Loss: 2.300831, Train accuracy: 0.196667, val accuracy: 0.206000\n",
      "Loss: 2.301631, Train accuracy: 0.196667, val accuracy: 0.206000\n",
      "Loss: 2.301633, Train accuracy: 0.196667, val accuracy: 0.206000\n",
      "Loss: 2.299616, Train accuracy: 0.196667, val accuracy: 0.206000\n",
      "Loss: 2.299224, Train accuracy: 0.196667, val accuracy: 0.206000\n",
      "best validation accuracy achieved: 0.207000\n"
     ]
    },
    {
     "data": {
      "text/plain": [
       "[<matplotlib.lines.Line2D at 0x7f462813c6d8>]"
      ]
     },
     "execution_count": 5,
     "metadata": {},
     "output_type": "execute_result"
    },
    {
     "data": {
      "image/png": "[encoded data removed]",
      "text/plain": [
       "<Figure size 432x288 with 1 Axes>"
      ]
     },
     "metadata": {
      "needs_background": "light"
     },
     "output_type": "display_data"
    }
   ],
   "source": [
    "# Let's train the best one-hidden-layer network we can\n",
    "\n",
    "# learning_rates = 1e-4\n",
    "# reg_strength = 1e-3\n",
    "# learning_rate_decay = 0.999\n",
    "# hidden_layer_size = 128\n",
    "# num_epochs = 200\n",
    "# batch_size = 64\n",
    "\n",
    "# best_classifier = None\n",
    "# best_val_accuracy = None\n",
    "\n",
    "# loss_history = []\n",
    "# train_history = []\n",
    "# val_history = []\n",
    "\n",
    "# TODO find the best hyperparameters to train the network\n",
    "# Don't hesitate to add new values to the arrays above, perform experiments, use any tricks you want\n",
    "# You should expect to get to at least 40% of valudation accuracy\n",
    "# Save loss/train/history of the best classifier to the variables above\n",
    "\n",
    "# model = TwoLayerNet(n_input = train_X.shape[1], n_output = 10, hidden_layer_size = hidden_layer_size, reg = reg_strength)\n",
    "# dataset = Dataset(train_X, train_y, val_X, val_y)\n",
    "# # TODO: Change any hyperparamers or optimizators to reach training accuracy in 20 epochs\n",
    "# trainer = Trainer(model, dataset, SGD(), learning_rate=learning_rates, num_epochs=num_epochs, batch_size=batch_size, learning_rate_decay=learning_rate_decay)\n",
    "\n",
    "# loss_history, train_history, val_history = trainer.fit()\n",
    "\n",
    "# best_val_accuracy = max(val_history)\n",
    "\n",
    "# print('best validation accuracy achieved: %f' % best_val_accuracy)"
   ]
  },
  {
   "cell_type": "code",
   "execution_count": 7,
   "metadata": {
    "scrolled": true
   },
   "outputs": [
    {
     "data": {
      "text/plain": [
       "[<matplotlib.lines.Line2D at 0x7f45e8b9ecc0>]"
      ]
     },
     "execution_count": 7,
     "metadata": {},
     "output_type": "execute_result"
    },
    {
     "data": {
      "image/png": "[encoded data removed]",
      "text/plain": [
       "<Figure size 432x288 with 1 Axes>"
      ]
     },
     "metadata": {
      "needs_background": "light"
     },
     "output_type": "display_data"
    }
   ],
   "source": [
    "plt.plot(train_history)\n",
    "plt.plot(val_history)"
   ]
  },
  {
   "cell_type": "code",
   "execution_count": 46,
   "metadata": {},
   "outputs": [
    {
     "name": "stdout",
     "output_type": "stream",
     "text": [
      "Loss: 1.694705, Train accuracy: 0.248000, val accuracy: 0.262000\n",
      "Loss: 2.109514, Train accuracy: 0.353778, val accuracy: 0.365000\n",
      "Loss: 2.321619, Train accuracy: 0.453000, val accuracy: 0.444000\n",
      "Loss: 0.864424, Train accuracy: 0.614222, val accuracy: 0.584000\n",
      "Loss: 1.560680, Train accuracy: 0.588778, val accuracy: 0.574000\n",
      "Loss: 1.313777, Train accuracy: 0.526556, val accuracy: 0.513000\n",
      "Loss: 0.852084, Train accuracy: 0.658000, val accuracy: 0.603000\n",
      "Loss: 1.559533, Train accuracy: 0.576000, val accuracy: 0.547000\n",
      "Loss: 0.379262, Train accuracy: 0.776778, val accuracy: 0.723000\n",
      "Loss: 1.197310, Train accuracy: 0.800889, val accuracy: 0.727000\n",
      "Loss: 0.883641, Train accuracy: 0.737333, val accuracy: 0.693000\n",
      "Loss: 1.656784, Train accuracy: 0.579667, val accuracy: 0.521000\n",
      "Loss: 0.795108, Train accuracy: 0.850667, val accuracy: 0.754000\n",
      "Loss: 0.680432, Train accuracy: 0.825000, val accuracy: 0.735000\n",
      "Loss: 0.794303, Train accuracy: 0.861222, val accuracy: 0.762000\n",
      "Loss: 0.760946, Train accuracy: 0.833667, val accuracy: 0.730000\n",
      "Loss: 0.580589, Train accuracy: 0.869222, val accuracy: 0.757000\n",
      "Loss: 0.775782, Train accuracy: 0.805222, val accuracy: 0.717000\n",
      "Loss: 0.657993, Train accuracy: 0.822667, val accuracy: 0.712000\n",
      "Loss: 0.488578, Train accuracy: 0.898889, val accuracy: 0.779000\n",
      "Loss: 0.499286, Train accuracy: 0.905556, val accuracy: 0.771000\n",
      "Loss: 0.618942, Train accuracy: 0.899667, val accuracy: 0.767000\n",
      "Loss: 0.449394, Train accuracy: 0.912556, val accuracy: 0.785000\n",
      "Loss: 0.493266, Train accuracy: 0.915222, val accuracy: 0.785000\n",
      "Loss: 0.490223, Train accuracy: 0.923778, val accuracy: 0.781000\n",
      "Loss: 0.675298, Train accuracy: 0.921889, val accuracy: 0.783000\n",
      "Loss: 0.856300, Train accuracy: 0.917222, val accuracy: 0.784000\n",
      "Loss: 0.711717, Train accuracy: 0.917556, val accuracy: 0.777000\n",
      "Loss: 0.638590, Train accuracy: 0.928778, val accuracy: 0.779000\n",
      "Loss: 0.469715, Train accuracy: 0.931000, val accuracy: 0.786000\n",
      "Loss: 0.426497, Train accuracy: 0.932333, val accuracy: 0.787000\n",
      "Loss: 0.558944, Train accuracy: 0.932667, val accuracy: 0.791000\n",
      "Loss: 1.255794, Train accuracy: 0.925444, val accuracy: 0.791000\n",
      "Loss: 0.407761, Train accuracy: 0.936889, val accuracy: 0.789000\n",
      "Loss: 0.612242, Train accuracy: 0.938556, val accuracy: 0.789000\n",
      "Loss: 0.593763, Train accuracy: 0.938222, val accuracy: 0.785000\n",
      "Loss: 0.424469, Train accuracy: 0.939889, val accuracy: 0.788000\n",
      "Loss: 0.528039, Train accuracy: 0.940222, val accuracy: 0.788000\n",
      "Loss: 0.689702, Train accuracy: 0.941444, val accuracy: 0.786000\n",
      "Loss: 0.652695, Train accuracy: 0.941000, val accuracy: 0.795000\n",
      "Loss: 0.448723, Train accuracy: 0.940778, val accuracy: 0.794000\n",
      "Loss: 0.580220, Train accuracy: 0.943889, val accuracy: 0.790000\n",
      "Loss: 0.371710, Train accuracy: 0.944222, val accuracy: 0.786000\n",
      "Loss: 0.428118, Train accuracy: 0.943222, val accuracy: 0.788000\n",
      "Loss: 0.340044, Train accuracy: 0.943444, val accuracy: 0.788000\n",
      "Loss: 0.507489, Train accuracy: 0.944333, val accuracy: 0.784000\n",
      "Loss: 0.372768, Train accuracy: 0.945222, val accuracy: 0.790000\n",
      "Loss: 0.806537, Train accuracy: 0.945333, val accuracy: 0.785000\n",
      "Loss: 0.772631, Train accuracy: 0.944667, val accuracy: 0.786000\n",
      "Loss: 0.720150, Train accuracy: 0.944556, val accuracy: 0.789000\n",
      "best validation accuracy achieved: 0.795000\n"
     ]
    },
    {
     "data": {
      "text/plain": [
       "[<matplotlib.lines.Line2D at 0x7f45e825df60>]"
      ]
     },
     "execution_count": 46,
     "metadata": {},
     "output_type": "execute_result"
    },
    {
     "data": {
      "image/png": "[encoded data removed]",
      "text/plain": [
       "<Figure size 432x288 with 1 Axes>"
      ]
     },
     "metadata": {
      "needs_background": "light"
     },
     "output_type": "display_data"
    }
   ],
   "source": [
    "# Let's train the best one-hidden-layer network we can\n",
    "\n",
    "learning_rates = 4.2e-1\n",
    "reg_strength = 0.6e-3\n",
    "learning_rate_decay = 0.90\n",
    "hidden_layer_size = 200\n",
    "num_epochs = 50\n",
    "batch_size = 32\n",
    "\n",
    "model = TwoLayerNet(n_input = train_X.shape[1], n_output = 10, hidden_layer_size = hidden_layer_size, reg = reg_strength)\n",
    "dataset = Dataset(train_X, train_y, val_X, val_y)\n",
    "# TODO: Change any hyperparamers or optimizators to reach training accuracy in 20 epochs\n",
    "trainer = Trainer(model, dataset, SGD(), learning_rate=learning_rates, num_epochs=num_epochs, batch_size=batch_size, learning_rate_decay=learning_rate_decay)\n",
    "\n",
    "loss_history, train_history, val_history = trainer.fit()\n",
    "\n",
    "best_val_accuracy = max(val_history)\n",
    "\n",
    "print('best validation accuracy achieved: %f' % best_val_accuracy)\n",
    "\n",
    "plt.plot(loss_history)"
   ]
  },
  {
   "cell_type": "code",
   "execution_count": 42,
   "metadata": {
    "scrolled": true
   },
   "outputs": [
    {
     "name": "stdout",
     "output_type": "stream",
     "text": [
      "Loss: 1.902506, Train accuracy: 0.324444, val accuracy: 0.346000\n",
      "Loss: 2.055452, Train accuracy: 0.468111, val accuracy: 0.459000\n",
      "Loss: 0.245828, Train accuracy: 0.559222, val accuracy: 0.564000\n",
      "Loss: 1.243666, Train accuracy: 0.521778, val accuracy: 0.516000\n",
      "Loss: 1.725359, Train accuracy: 0.565667, val accuracy: 0.551000\n",
      "Loss: 0.406232, Train accuracy: 0.706111, val accuracy: 0.644000\n",
      "Loss: 0.865253, Train accuracy: 0.688111, val accuracy: 0.648000\n",
      "Loss: 1.186143, Train accuracy: 0.666111, val accuracy: 0.624000\n",
      "Loss: 0.840286, Train accuracy: 0.704556, val accuracy: 0.656000\n",
      "Loss: 0.529389, Train accuracy: 0.723444, val accuracy: 0.657000\n",
      "Loss: 0.810189, Train accuracy: 0.798444, val accuracy: 0.721000\n",
      "Loss: 0.558866, Train accuracy: 0.838667, val accuracy: 0.746000\n",
      "Loss: 0.658136, Train accuracy: 0.836778, val accuracy: 0.726000\n",
      "Loss: 0.560638, Train accuracy: 0.853111, val accuracy: 0.746000\n",
      "Loss: 0.388285, Train accuracy: 0.807556, val accuracy: 0.711000\n",
      "Loss: 1.208011, Train accuracy: 0.774444, val accuracy: 0.665000\n",
      "Loss: 0.644253, Train accuracy: 0.869778, val accuracy: 0.742000\n",
      "Loss: 0.591656, Train accuracy: 0.857333, val accuracy: 0.738000\n",
      "Loss: 0.468475, Train accuracy: 0.893222, val accuracy: 0.769000\n",
      "Loss: 0.502479, Train accuracy: 0.894111, val accuracy: 0.773000\n",
      "best validation accuracy achieved: 0.773000\n"
     ]
    },
    {
     "data": {
      "image/png": "[encoded data removed]",
      "text/plain": [
       "<Figure size 432x288 with 1 Axes>"
      ]
     },
     "metadata": {
      "needs_background": "light"
     },
     "output_type": "display_data"
    }
   ],
   "source": [
    "# Let's train the best one-hidden-layer network we can\n",
    "\n",
    "learning_rates = 4.2e-1\n",
    "reg_strength = 0.5e-3\n",
    "learning_rate_decay = 0.90\n",
    "hidden_layer_size = 200\n",
    "num_epochs = 20\n",
    "batch_size = 32\n",
    "\n",
    "model = TwoLayerNet(n_input = train_X.shape[1], n_output = 10, hidden_layer_size = hidden_layer_size, reg = reg_strength)\n",
    "dataset = Dataset(train_X, train_y, val_X, val_y)\n",
    "# TODO: Change any hyperparamers or optimizators to reach training accuracy in 20 epochs\n",
    "trainer = Trainer(model, dataset, SGD(), learning_rate=learning_rates, num_epochs=num_epochs, batch_size=batch_size, learning_rate_decay=learning_rate_decay)\n",
    "\n",
    "loss_history, train_history, val_history = trainer.fit()\n",
    "\n",
    "best_val_accuracy = max(val_history)\n",
    "\n",
    "print('best validation accuracy achieved: %f' % best_val_accuracy)\n",
    "\n",
    "plt.plot(loss_history)\n",
    "\n",
    "best_classifier = model"
   ]
  },
  {
   "cell_type": "code",
   "execution_count": 35,
   "metadata": {},
   "outputs": [],
   "source": [
    "#best_classifier\n",
    "learning_rates = 4e-1\n",
    "reg_strength = 1e-3\n",
    "learning_rate_decay = 0.91\n",
    "hidden_layer_size = 200\n",
    "num_epochs = 20\n",
    "batch_size = 32"
   ]
  },
  {
   "cell_type": "code",
   "execution_count": 43,
   "metadata": {},
   "outputs": [
    {
     "data": {
      "text/plain": [
       "[<matplotlib.lines.Line2D at 0x7f45e8175208>]"
      ]
     },
     "execution_count": 43,
     "metadata": {},
     "output_type": "execute_result"
    },
    {
     "data": {
      "image/png": "[encoded data removed]",
      "text/plain": [
       "<Figure size 1080x504 with 2 Axes>"
      ]
     },
     "metadata": {
      "needs_background": "light"
     },
     "output_type": "display_data"
    }
   ],
   "source": [
    "plt.figure(figsize=(15, 7))\n",
    "plt.subplot(211)\n",
    "plt.title(\"Loss\")\n",
    "plt.plot(loss_history)\n",
    "plt.subplot(212)\n",
    "plt.title(\"Train/validation accuracy\")\n",
    "plt.plot(train_history)\n",
    "plt.plot(val_history)"
   ]
  },
  {
   "cell_type": "markdown",
   "metadata": {},
   "source": [
    "# Как обычно, посмотрим, как наша лучшая модель работает на тестовых данных"
   ]
  },
  {
   "cell_type": "code",
   "execution_count": 45,
   "metadata": {},
   "outputs": [
    {
     "name": "stdout",
     "output_type": "stream",
     "text": [
      "Neural net test set accuracy: 0.727000\n"
     ]
    }
   ],
   "source": [
    "test_pred = best_classifier.predict(test_X)\n",
    "test_accuracy = multiclass_accuracy(test_pred, test_y)\n",
    "print('Neural net test set accuracy: %f' % (test_accuracy, ))"
   ]
  }
 ],
 "metadata": {
  "kernelspec": {
   "display_name": "Python 3",
   "language": "python",
   "name": "python3"
  },
  "language_info": {
   "codemirror_mode": {
    "name": "ipython",
    "version": 3
   },
   "file_extension": ".py",
   "mimetype": "text/x-python",
   "name": "python",
   "nbconvert_exporter": "python",
   "pygments_lexer": "ipython3",
   "version": "3.5.2"
  }
 },
 "nbformat": 4,
 "nbformat_minor": 2
}
