{
 "cells": [
  {
   "cell_type": "code",
   "execution_count": 1,
   "metadata": {},
   "outputs": [],
   "source": [
    "import numpy as np"
   ]
  },
  {
   "cell_type": "code",
   "execution_count": 2,
   "metadata": {},
   "outputs": [
    {
     "data": {
      "text/plain": [
       "array([ 1,  2,  3,  4,  5,  6,  7,  1,  2, 11])"
      ]
     },
     "execution_count": 2,
     "metadata": {},
     "output_type": "execute_result"
    }
   ],
   "source": [
    "arr = np.array([1,2,3,4,5,6,7,1,2,11]);arr"
   ]
  },
  {
   "cell_type": "code",
   "execution_count": 3,
   "metadata": {},
   "outputs": [
    {
     "data": {
      "text/plain": [
       "array([ 1,  2,  3,  4,  5,  6,  7,  1,  2, 11])"
      ]
     },
     "execution_count": 3,
     "metadata": {},
     "output_type": "execute_result"
    }
   ],
   "source": [
    "arr.T"
   ]
  },
  {
   "cell_type": "code",
   "execution_count": 4,
   "metadata": {},
   "outputs": [
    {
     "data": {
      "text/plain": [
       "array([ True, False, False, False, False, False, False,  True, False,\n",
       "       False])"
      ]
     },
     "execution_count": 4,
     "metadata": {},
     "output_type": "execute_result"
    }
   ],
   "source": [
    "arr == 1"
   ]
  },
  {
   "cell_type": "code",
   "execution_count": 5,
   "metadata": {},
   "outputs": [
    {
     "data": {
      "text/plain": [
       "array([3])"
      ]
     },
     "execution_count": 5,
     "metadata": {},
     "output_type": "execute_result"
    }
   ],
   "source": [
    "arr[arr==1|3]"
   ]
  },
  {
   "cell_type": "raw",
   "metadata": {},
   "source": []
  },
  {
   "cell_type": "code",
   "execution_count": 6,
   "metadata": {},
   "outputs": [
    {
     "data": {
      "text/plain": [
       "3"
      ]
     },
     "execution_count": 6,
     "metadata": {},
     "output_type": "execute_result"
    }
   ],
   "source": [
    "True|3"
   ]
  },
  {
   "cell_type": "markdown",
   "metadata": {},
   "source": [
    "### Пробуем написать код, для вычисления норм без циклов"
   ]
  },
  {
   "cell_type": "code",
   "execution_count": 7,
   "metadata": {},
   "outputs": [
    {
     "data": {
      "text/plain": [
       "array([[ 0,  1],\n",
       "       [ 2,  3],\n",
       "       [ 4,  5],\n",
       "       [ 6,  7],\n",
       "       [ 8,  9],\n",
       "       [10, 11],\n",
       "       [12, 13]])"
      ]
     },
     "execution_count": 7,
     "metadata": {},
     "output_type": "execute_result"
    }
   ],
   "source": [
    "A = np.arange(14).reshape(-1,2)\n",
    "A"
   ]
  },
  {
   "cell_type": "code",
   "execution_count": 8,
   "metadata": {},
   "outputs": [
    {
     "data": {
      "text/plain": [
       "array([[15, 14],\n",
       "       [13, 12],\n",
       "       [11, 10],\n",
       "       [ 9,  8],\n",
       "       [ 7,  6],\n",
       "       [ 5,  4],\n",
       "       [ 3,  2],\n",
       "       [ 1,  0]])"
      ]
     },
     "execution_count": 8,
     "metadata": {},
     "output_type": "execute_result"
    }
   ],
   "source": [
    "B = np.arange(16)[::-1].reshape(-1,2)\n",
    "B"
   ]
  },
  {
   "cell_type": "code",
   "execution_count": 9,
   "metadata": {},
   "outputs": [],
   "source": [
    "    def compute_distances_one_loop(a, b):\n",
    "        '''\n",
    "        Computes distance from every sample of X to every training sample\n",
    "        Vectorizes some of the calculations, so only 1 loop is used\n",
    "\n",
    "        Arguments:\n",
    "        X, np array (num_test_samples, num_features) - samples to run\n",
    "        \n",
    "        Returns:\n",
    "        dists, np array (num_test_samples, num_train_samples) - array\n",
    "           with distances between each test and each train sample\n",
    "        '''\n",
    "        num_train = a.shape[0]\n",
    "        num_test = b.shape[0]\n",
    "        dists = np.zeros((num_test, num_train), np.float32)\n",
    "        for i_test in range(num_test):\n",
    "            # TODO: Fill the whole row of dists[i_test]\n",
    "            # without additional loops\n",
    "            dists[i_test]=np.sum(np.abs(b[i_test]-a),axis=1)\n",
    "        return dists"
   ]
  },
  {
   "cell_type": "code",
   "execution_count": 10,
   "metadata": {},
   "outputs": [],
   "source": [
    "dists1 = compute_distances_one_loop(A,B)"
   ]
  },
  {
   "cell_type": "code",
   "execution_count": 11,
   "metadata": {},
   "outputs": [
    {
     "data": {
      "text/plain": [
       "(7, 8)"
      ]
     },
     "execution_count": 11,
     "metadata": {},
     "output_type": "execute_result"
    }
   ],
   "source": [
    "dists1.T.shape"
   ]
  },
  {
   "cell_type": "code",
   "execution_count": 12,
   "metadata": {},
   "outputs": [
    {
     "data": {
      "text/plain": [
       "array([[28., 24., 20., 16., 12.,  8.,  4.,  2.],\n",
       "       [24., 20., 16., 12.,  8.,  4.,  2.,  4.],\n",
       "       [20., 16., 12.,  8.,  4.,  2.,  4.,  8.],\n",
       "       [16., 12.,  8.,  4.,  2.,  4.,  8., 12.],\n",
       "       [12.,  8.,  4.,  2.,  4.,  8., 12., 16.],\n",
       "       [ 8.,  4.,  2.,  4.,  8., 12., 16., 20.],\n",
       "       [ 4.,  2.,  4.,  8., 12., 16., 20., 24.]], dtype=float32)"
      ]
     },
     "execution_count": 12,
     "metadata": {},
     "output_type": "execute_result"
    }
   ],
   "source": [
    "dists1.T"
   ]
  },
  {
   "cell_type": "code",
   "execution_count": 13,
   "metadata": {},
   "outputs": [
    {
     "name": "stdout",
     "output_type": "stream",
     "text": [
      "(7, 2)\n",
      "(8, 2)\n"
     ]
    }
   ],
   "source": [
    "print(A.shape)\n",
    "print(B.shape)"
   ]
  },
  {
   "cell_type": "code",
   "execution_count": 14,
   "metadata": {},
   "outputs": [
    {
     "name": "stdout",
     "output_type": "stream",
     "text": [
      "[[ 0  1]\n",
      " [ 2  3]\n",
      " [ 4  5]\n",
      " [ 6  7]\n",
      " [ 8  9]\n",
      " [10 11]\n",
      " [12 13]]\n"
     ]
    }
   ],
   "source": [
    "print(A)"
   ]
  },
  {
   "cell_type": "code",
   "execution_count": 15,
   "metadata": {},
   "outputs": [
    {
     "name": "stdout",
     "output_type": "stream",
     "text": [
      "[[15 13 11  9  7  5  3  1]\n",
      " [14 12 10  8  6  4  2  0]]\n"
     ]
    }
   ],
   "source": [
    "print(B.T)"
   ]
  },
  {
   "cell_type": "code",
   "execution_count": 16,
   "metadata": {},
   "outputs": [
    {
     "name": "stdout",
     "output_type": "stream",
     "text": [
      "(7, 2, 1)\n"
     ]
    }
   ],
   "source": [
    "An = np.expand_dims(A,axis=2)\n",
    "print(An.shape)"
   ]
  },
  {
   "cell_type": "code",
   "execution_count": 17,
   "metadata": {},
   "outputs": [
    {
     "name": "stdout",
     "output_type": "stream",
     "text": [
      "(1, 2, 8)\n"
     ]
    }
   ],
   "source": [
    "Bn = np.expand_dims(B.T,axis=0)\n",
    "print(Bn.shape)"
   ]
  },
  {
   "cell_type": "code",
   "execution_count": 18,
   "metadata": {},
   "outputs": [
    {
     "data": {
      "text/plain": [
       "(7, 2, 8)"
      ]
     },
     "execution_count": 18,
     "metadata": {},
     "output_type": "execute_result"
    }
   ],
   "source": [
    "dists = An-Bn\n",
    "dists.shape"
   ]
  },
  {
   "cell_type": "code",
   "execution_count": 19,
   "metadata": {},
   "outputs": [],
   "source": [
    "dists = np.abs(dists)"
   ]
  },
  {
   "cell_type": "code",
   "execution_count": 20,
   "metadata": {},
   "outputs": [
    {
     "data": {
      "text/plain": [
       "array([[15, 13, 11,  9,  7,  5,  3,  1],\n",
       "       [13, 11,  9,  7,  5,  3,  1,  1]])"
      ]
     },
     "execution_count": 20,
     "metadata": {},
     "output_type": "execute_result"
    }
   ],
   "source": [
    "dists[0,:]"
   ]
  },
  {
   "cell_type": "code",
   "execution_count": 21,
   "metadata": {},
   "outputs": [
    {
     "data": {
      "text/plain": [
       "(7, 8)"
      ]
     },
     "execution_count": 21,
     "metadata": {},
     "output_type": "execute_result"
    }
   ],
   "source": [
    "dists2 = np.sum(dists, axis = 1)\n",
    "dists2.shape"
   ]
  },
  {
   "cell_type": "code",
   "execution_count": 22,
   "metadata": {},
   "outputs": [
    {
     "data": {
      "text/plain": [
       "array([[28, 24, 20, 16, 12,  8,  4,  2],\n",
       "       [24, 20, 16, 12,  8,  4,  2,  4],\n",
       "       [20, 16, 12,  8,  4,  2,  4,  8],\n",
       "       [16, 12,  8,  4,  2,  4,  8, 12],\n",
       "       [12,  8,  4,  2,  4,  8, 12, 16],\n",
       "       [ 8,  4,  2,  4,  8, 12, 16, 20],\n",
       "       [ 4,  2,  4,  8, 12, 16, 20, 24]])"
      ]
     },
     "execution_count": 22,
     "metadata": {},
     "output_type": "execute_result"
    }
   ],
   "source": [
    "dists2"
   ]
  },
  {
   "cell_type": "code",
   "execution_count": 23,
   "metadata": {},
   "outputs": [
    {
     "data": {
      "text/plain": [
       "array([[28., 24., 20., 16., 12.,  8.,  4.,  2.],\n",
       "       [24., 20., 16., 12.,  8.,  4.,  2.,  4.],\n",
       "       [20., 16., 12.,  8.,  4.,  2.,  4.,  8.],\n",
       "       [16., 12.,  8.,  4.,  2.,  4.,  8., 12.],\n",
       "       [12.,  8.,  4.,  2.,  4.,  8., 12., 16.],\n",
       "       [ 8.,  4.,  2.,  4.,  8., 12., 16., 20.],\n",
       "       [ 4.,  2.,  4.,  8., 12., 16., 20., 24.]], dtype=float32)"
      ]
     },
     "execution_count": 23,
     "metadata": {},
     "output_type": "execute_result"
    }
   ],
   "source": [
    "dists1.T"
   ]
  },
  {
   "cell_type": "code",
   "execution_count": 24,
   "metadata": {},
   "outputs": [
    {
     "data": {
      "text/plain": [
       "array([[0., 0., 0., 0., 0., 0., 0., 0.],\n",
       "       [0., 0., 0., 0., 0., 0., 0., 0.],\n",
       "       [0., 0., 0., 0., 0., 0., 0., 0.],\n",
       "       [0., 0., 0., 0., 0., 0., 0., 0.],\n",
       "       [0., 0., 0., 0., 0., 0., 0., 0.],\n",
       "       [0., 0., 0., 0., 0., 0., 0., 0.],\n",
       "       [0., 0., 0., 0., 0., 0., 0., 0.]])"
      ]
     },
     "execution_count": 24,
     "metadata": {},
     "output_type": "execute_result"
    }
   ],
   "source": [
    "np.abs(dists2) - np.abs(dists1.T)"
   ]
  },
  {
   "cell_type": "markdown",
   "metadata": {},
   "source": [
    "#### Проверим частичную сортировку + слайсы:"
   ]
  },
  {
   "cell_type": "code",
   "execution_count": 2,
   "metadata": {},
   "outputs": [],
   "source": [
    "tmp = [9,1,3,4,8,7,2,5,6,0]"
   ]
  },
  {
   "cell_type": "code",
   "execution_count": 17,
   "metadata": {},
   "outputs": [
    {
     "data": {
      "text/plain": [
       "array([0, 1, 2])"
      ]
     },
     "execution_count": 17,
     "metadata": {},
     "output_type": "execute_result"
    }
   ],
   "source": [
    "import bottleneck as bn\n",
    "num = 3\n",
    "ind = bn.partition(tmp,num)[:num]\n",
    "ind"
   ]
  },
  {
   "cell_type": "code",
   "execution_count": 18,
   "metadata": {},
   "outputs": [
    {
     "data": {
      "text/plain": [
       "array([0, 1, 2, 3, 8, 7, 4, 5, 6, 9])"
      ]
     },
     "execution_count": 18,
     "metadata": {},
     "output_type": "execute_result"
    }
   ],
   "source": [
    "bn.partition(tmp,num)"
   ]
  },
  {
   "cell_type": "code",
   "execution_count": 32,
   "metadata": {},
   "outputs": [
    {
     "name": "stdout",
     "output_type": "stream",
     "text": [
      "[0 1 3 4 8 7 2 5 6 9] []                      [0 1 3 4 8 7]\n",
      "[0 1 3 4 8 7 2 5 6 9] [0]                      [1 3 4 8 7]\n",
      "[0 1 2 4 8 7 3 5 6 9] [0 1]                      [2 4 8 7]\n",
      "[0 1 2 3 8 7 4 5 6 9] [0 1 2]                      [3 8 7]\n",
      "[0 1 2 3 4 7 5 6 8 9] [0 1 2 3]                      [4 7]\n",
      "[0 1 2 3 4 5 6 7 8 9] [0 1 2 3 4]                      [5]\n",
      "[0 1 2 3 4 5 6 7 8 9] [0 1 2 3 4 5]                      []\n",
      "[0 1 3 4 5 2 6 7 8 9] [0 1 3 4 5 2 6]                      []\n",
      "[0 1 3 4 6 5 2 7 8 9] [0 1 3 4 6 5 2 7]                      []\n",
      "[0 1 3 4 8 7 2 5 6 9] [0 1 3 4 8 7 2 5 6]                      []\n"
     ]
    }
   ],
   "source": [
    "for num in range(len(tmp)):\n",
    "    ind = bn.partition(tmp,num)\n",
    "    print(ind, ind[:num],10*\"  \", ind[num:6])"
   ]
  },
  {
   "cell_type": "code",
   "execution_count": null,
   "metadata": {},
   "outputs": [],
   "source": []
  },
  {
   "cell_type": "code",
   "execution_count": null,
   "metadata": {},
   "outputs": [],
   "source": []
  },
  {
   "cell_type": "code",
   "execution_count": 3,
   "metadata": {},
   "outputs": [
    {
     "data": {
      "text/plain": [
       "array([ 1,  2,  3,  4,  5,  6,  7,  1,  2, 11])"
      ]
     },
     "execution_count": 3,
     "metadata": {},
     "output_type": "execute_result"
    }
   ],
   "source": [
    "arr"
   ]
  },
  {
   "cell_type": "code",
   "execution_count": 5,
   "metadata": {},
   "outputs": [
    {
     "data": {
      "text/plain": [
       "array([2, 3, 6])"
      ]
     },
     "execution_count": 5,
     "metadata": {},
     "output_type": "execute_result"
    }
   ],
   "source": [
    "arr[[1,2,5]]"
   ]
  },
  {
   "cell_type": "code",
   "execution_count": null,
   "metadata": {},
   "outputs": [],
   "source": []
  }
 ],
 "metadata": {
  "kernelspec": {
   "display_name": "Python 3",
   "language": "python",
   "name": "python3"
  },
  "language_info": {
   "codemirror_mode": {
    "name": "ipython",
    "version": 3
   },
   "file_extension": ".py",
   "mimetype": "text/x-python",
   "name": "python",
   "nbconvert_exporter": "python",
   "pygments_lexer": "ipython3",
   "version": "3.5.2"
  }
 },
 "nbformat": 4,
 "nbformat_minor": 2
}
